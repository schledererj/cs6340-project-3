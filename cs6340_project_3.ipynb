{
 "cells": [
  {
   "cell_type": "code",
   "execution_count": 200,
   "metadata": {},
   "outputs": [],
   "source": [
    "import pandas as pd\n",
    "import numpy as np\n",
    "import matplotlib.pyplot as plt\n",
    "import tensorflow as tf\n",
    "from sklearn.metrics import accuracy_score"
   ]
  },
  {
   "cell_type": "markdown",
   "metadata": {},
   "source": [
    "# Download, Load, and Visualize the Data"
   ]
  },
  {
   "cell_type": "markdown",
   "metadata": {},
   "source": [
    "We'll start by extracting the train-test data from the provided files."
   ]
  },
  {
   "cell_type": "code",
   "execution_count": 48,
   "metadata": {},
   "outputs": [
    {
     "data": {
      "text/plain": [
       "(60000, 28, 28)"
      ]
     },
     "execution_count": 48,
     "metadata": {},
     "output_type": "execute_result"
    }
   ],
   "source": [
    "train_images_file = np.load('kmnist-train-imgs.npz')\n",
    "train_images = train_images_file['arr_0']\n",
    "train_images_file.close()\n",
    "train_images.shape"
   ]
  },
  {
   "cell_type": "code",
   "execution_count": 49,
   "metadata": {},
   "outputs": [
    {
     "data": {
      "text/plain": [
       "(60000,)"
      ]
     },
     "execution_count": 49,
     "metadata": {},
     "output_type": "execute_result"
    }
   ],
   "source": [
    "train_labels_file = np.load('kmnist-train-labels.npz')\n",
    "train_labels = train_labels_file['arr_0']\n",
    "train_labels.shape"
   ]
  },
  {
   "cell_type": "code",
   "execution_count": 50,
   "metadata": {},
   "outputs": [
    {
     "data": {
      "text/plain": [
       "(10000, 28, 28)"
      ]
     },
     "execution_count": 50,
     "metadata": {},
     "output_type": "execute_result"
    }
   ],
   "source": [
    "test_images_file = np.load('kmnist-test-imgs.npz')\n",
    "test_images = test_images_file['arr_0']\n",
    "test_images.shape"
   ]
  },
  {
   "cell_type": "code",
   "execution_count": 51,
   "metadata": {},
   "outputs": [
    {
     "data": {
      "text/plain": [
       "(10000,)"
      ]
     },
     "execution_count": 51,
     "metadata": {},
     "output_type": "execute_result"
    }
   ],
   "source": [
    "test_labels_file = np.load('kmnist-test-labels.npz')\n",
    "test_labels = test_labels_file['arr_0']\n",
    "test_labels.shape"
   ]
  },
  {
   "cell_type": "markdown",
   "metadata": {},
   "source": [
    "We'll spot-check the data by visualizing a few of the samples for the first 4 classes."
   ]
  },
  {
   "cell_type": "code",
   "execution_count": 99,
   "metadata": {},
   "outputs": [],
   "source": [
    "label_0 = filter(lambda x: x[1] == 0, zip(train_images, train_labels))\n",
    "label_1 = filter(lambda x: x[1] == 1, zip(train_images, train_labels))\n",
    "label_2 = filter(lambda x: x[1] == 2, zip(train_images, train_labels))\n",
    "label_3 = filter(lambda x: x[1] == 3, zip(train_images, train_labels))"
   ]
  },
  {
   "cell_type": "code",
   "execution_count": 100,
   "metadata": {},
   "outputs": [
    {
     "data": {
      "image/png": "[encoded data removed]",
      "text/plain": [
       "<Figure size 720x720 with 3 Axes>"
      ]
     },
     "metadata": {
      "needs_background": "light"
     },
     "output_type": "display_data"
    }
   ],
   "source": [
    "fig, axes = plt.subplots(nrows=1, ncols=3, figsize=(10, 10))\n",
    "for ax in axes:\n",
    "    image = next(label_0)\n",
    "    ax.set_axis_off()\n",
    "    ax.imshow(image[0], cmap=plt.cm.gray_r, interpolation='nearest')\n",
    "    ax.set_title('Training: %i' % image[1])"
   ]
  },
  {
   "cell_type": "code",
   "execution_count": 101,
   "metadata": {},
   "outputs": [
    {
     "data": {
      "image/png": "[encoded data removed]",
      "text/plain": [
       "<Figure size 720x720 with 3 Axes>"
      ]
     },
     "metadata": {
      "needs_background": "light"
     },
     "output_type": "display_data"
    }
   ],
   "source": [
    "fig, axes = plt.subplots(nrows=1, ncols=3, figsize=(10, 10))\n",
    "for ax in axes:\n",
    "    image = next(label_1)\n",
    "    ax.set_axis_off()\n",
    "    ax.imshow(image[0], cmap=plt.cm.gray_r, interpolation='nearest')\n",
    "    ax.set_title('Training: %i' % image[1])"
   ]
  },
  {
   "cell_type": "code",
   "execution_count": 102,
   "metadata": {},
   "outputs": [
    {
     "data": {
      "image/png": "[encoded data removed]",
      "text/plain": [
       "<Figure size 720x720 with 3 Axes>"
      ]
     },
     "metadata": {
      "needs_background": "light"
     },
     "output_type": "display_data"
    }
   ],
   "source": [
    "fig, axes = plt.subplots(nrows=1, ncols=3, figsize=(10, 10))\n",
    "for ax in axes:\n",
    "    image = next(label_2)\n",
    "    ax.set_axis_off()\n",
    "    ax.imshow(image[0], cmap=plt.cm.gray_r, interpolation='nearest')\n",
    "    ax.set_title('Training: %i' % image[1])"
   ]
  },
  {
   "cell_type": "code",
   "execution_count": 103,
   "metadata": {},
   "outputs": [
    {
     "data": {
      "image/png": "[encoded data removed]",
      "text/plain": [
       "<Figure size 720x720 with 3 Axes>"
      ]
     },
     "metadata": {
      "needs_background": "light"
     },
     "output_type": "display_data"
    }
   ],
   "source": [
    "fig, axes = plt.subplots(nrows=1, ncols=3, figsize=(10, 10))\n",
    "for ax in axes:\n",
    "    image = next(label_3)\n",
    "    ax.set_axis_off()\n",
    "    ax.imshow(image[0], cmap=plt.cm.gray_r, interpolation='nearest')\n",
    "    ax.set_title('Training: %i' % image[1])"
   ]
  },
  {
   "cell_type": "markdown",
   "metadata": {},
   "source": [
    "## Reshaping the features\n",
    "\n",
    "We'll flatten the 2D 28 x 28 pixel arrays to 1D 784 pixel arrays. We could use scikit-learn's `StandardScaler` here to scale the values to have a 0 mean and 1 std. deviation, but Keras has a built-in scaler, so we'll include that as part of the deep learning model in the next section."
   ]
  },
  {
   "cell_type": "code",
   "execution_count": 123,
   "metadata": {},
   "outputs": [],
   "source": [
    "train_images_flat = train_images.reshape(60000, 28*28)"
   ]
  },
  {
   "cell_type": "markdown",
   "metadata": {},
   "source": [
    "## Implementing a multi-layer perceptron\n",
    "\n",
    "Using Keras, we'll build up a simple multi-layer perceptron model with an input layer, a scaling layer, 2 hidden dense layers, and an output dense layer."
   ]
  },
  {
   "cell_type": "code",
   "execution_count": 149,
   "metadata": {},
   "outputs": [
    {
     "name": "stdout",
     "output_type": "stream",
     "text": [
      "Model: \"sequential_3\"\n",
      "_________________________________________________________________\n",
      " Layer (type)                Output Shape              Param #   \n",
      "=================================================================\n",
      " rescaling_2 (Rescaling)     (None, 784)               0         \n",
      "                                                                 \n",
      " dense_6 (Dense)             (None, 8)                 6280      \n",
      "                                                                 \n",
      " dense_7 (Dense)             (None, 8)                 72        \n",
      "                                                                 \n",
      " dense_8 (Dense)             (None, 10)                90        \n",
      "                                                                 \n",
      "=================================================================\n",
      "Total params: 6,442\n",
      "Trainable params: 6,442\n",
      "Non-trainable params: 0\n",
      "_________________________________________________________________\n"
     ]
    }
   ],
   "source": [
    "# Use a sequential, linear stack of layers\n",
    "model = tf.keras.Sequential()\n",
    "\n",
    "# Add an input layer\n",
    "model.add(tf.keras.layers.InputLayer(input_shape=(28*28,)))\n",
    "\n",
    "# Add a scaler to scale the [0, 255] values to [0, 1]\n",
    "model.add(tf.keras.layers.Rescaling(scale=1./255))\n",
    "\n",
    "# Add 2 dense layers with 8 nodes each, with RELU activation functions\n",
    "model.add(tf.keras.layers.Dense(8, activation='relu'))\n",
    "model.add(tf.keras.layers.Dense(8, activation='relu'))\n",
    "\n",
    "# Add a dense layer with N nodes (N being the number of classes) and a softmax activation function\n",
    "num_classes = len(set(train_labels))\n",
    "model.add(tf.keras.layers.Dense(num_classes, activation='softmax'))\n",
    "\n",
    "model.summary()"
   ]
  },
  {
   "cell_type": "markdown",
   "metadata": {},
   "source": [
    "Now, let's compile the model. The `compile` function takes input arguments for the loss function, the optimizer, and additional metrics to calculate along with loss. Since we're classifying with >2 labels and the labels are provided in integer format, we'll use the `SparseCategoricalCrossentropy` loss function. There are several options for the optimizer class, with no immediately apparent advantages or disadvantages over the others, so we'll use the one that was used in the MNIST tutorial, `RMSprop`. As for additional metrics, we'll take `accuracy`, which is more immediately indicative of the model's performance than loss."
   ]
  },
  {
   "cell_type": "code",
   "execution_count": 150,
   "metadata": {},
   "outputs": [],
   "source": [
    "model.compile(\n",
    "    loss=tf.keras.losses.SparseCategoricalCrossentropy(),\n",
    "    optimizer=tf.keras.optimizers.RMSprop(),\n",
    "    metrics=['accuracy']\n",
    ")"
   ]
  },
  {
   "cell_type": "code",
   "execution_count": 151,
   "metadata": {},
   "outputs": [
    {
     "name": "stdout",
     "output_type": "stream",
     "text": [
      "Model: \"sequential_3\"\n",
      "_________________________________________________________________\n",
      " Layer (type)                Output Shape              Param #   \n",
      "=================================================================\n",
      " rescaling_2 (Rescaling)     (None, 784)               0         \n",
      "                                                                 \n",
      " dense_6 (Dense)             (None, 8)                 6280      \n",
      "                                                                 \n",
      " dense_7 (Dense)             (None, 8)                 72        \n",
      "                                                                 \n",
      " dense_8 (Dense)             (None, 10)                90        \n",
      "                                                                 \n",
      "=================================================================\n",
      "Total params: 6,442\n",
      "Trainable params: 6,442\n",
      "Non-trainable params: 0\n",
      "_________________________________________________________________\n"
     ]
    }
   ],
   "source": [
    "model.summary()"
   ]
  },
  {
   "cell_type": "markdown",
   "metadata": {},
   "source": [
    "With a freshly-compiled model, we're ready to train! Fitting a deep learning model has more tunable parameters than a run-of-the-mill ML model, but we'll just be tuning the batch size and number of epochs to train over. For the first run, we'll just use a batch size of the default of 32, and 10 epochs."
   ]
  },
  {
   "cell_type": "code",
   "execution_count": 152,
   "metadata": {},
   "outputs": [
    {
     "name": "stdout",
     "output_type": "stream",
     "text": [
      "Epoch 1/10\n",
      "1875/1875 [==============================] - 2s 941us/step - loss: 1.0693 - accuracy: 0.6638\n",
      "Epoch 2/10\n",
      "1875/1875 [==============================] - 2s 814us/step - loss: 0.6866 - accuracy: 0.7915\n",
      "Epoch 3/10\n",
      "1875/1875 [==============================] - 2s 863us/step - loss: 0.6267 - accuracy: 0.8098\n",
      "Epoch 4/10\n",
      "1875/1875 [==============================] - 2s 828us/step - loss: 0.5968 - accuracy: 0.8177\n",
      "Epoch 5/10\n",
      "1875/1875 [==============================] - 2s 847us/step - loss: 0.5765 - accuracy: 0.8248\n",
      "Epoch 6/10\n",
      "1875/1875 [==============================] - 2s 826us/step - loss: 0.5632 - accuracy: 0.8298\n",
      "Epoch 7/10\n",
      "1875/1875 [==============================] - 2s 818us/step - loss: 0.5528 - accuracy: 0.8320\n",
      "Epoch 8/10\n",
      "1875/1875 [==============================] - 2s 866us/step - loss: 0.5455 - accuracy: 0.8338\n",
      "Epoch 9/10\n",
      "1875/1875 [==============================] - 2s 827us/step - loss: 0.5387 - accuracy: 0.8362\n",
      "Epoch 10/10\n",
      "1875/1875 [==============================] - 2s 820us/step - loss: 0.5335 - accuracy: 0.8388\n"
     ]
    }
   ],
   "source": [
    "history = model.fit(\n",
    "    x=train_images_flat,\n",
    "    y=train_labels,\n",
    "    batch_size=32,\n",
    "    epochs=10\n",
    ")"
   ]
  },
  {
   "cell_type": "code",
   "execution_count": 156,
   "metadata": {},
   "outputs": [
    {
     "name": "stdout",
     "output_type": "stream",
     "text": [
      "Accuracy: 83.88%\n"
     ]
    }
   ],
   "source": [
    "print(f\"Accuracy: {(history.history['accuracy'][-1] * 100):.2f}%\")"
   ]
  },
  {
   "cell_type": "markdown",
   "metadata": {},
   "source": [
    "This is decent accuracy for a first pass, but keep in mind it's only the accuracy of the final pass of _training_. We don't know how it will fare against the testing dataset. Let's play around with some of the parameters. First off, let's \"functionize\" the creation and training of the model, the predictions, and the accuracy calculation. I want to be able to pass the optimizer, the number of training epochs, the number of hidden dense layers, and the number of nodes in the hidden dense layers as inputs, and get an accuracy score against the testing images as an output."
   ]
  },
  {
   "cell_type": "code",
   "execution_count": 216,
   "metadata": {},
   "outputs": [],
   "source": [
    "test_images_flat = test_images.reshape(10000, 28*28)\n",
    "\n",
    "def compile_fit_model_and_predict(num_epochs, num_hidden_dense_layers, num_dense_layer_nodes, optimizer):\n",
    "    model = tf.keras.Sequential()\n",
    "\n",
    "    model.add(tf.keras.layers.InputLayer(input_shape=(28*28,)))\n",
    "    model.add(tf.keras.layers.Rescaling(scale=1./255))\n",
    "\n",
    "    for i in range(0, num_hidden_dense_layers):\n",
    "        model.add(tf.keras.layers.Dense(\n",
    "            num_dense_layer_nodes, activation='relu'))\n",
    "\n",
    "    # Add a dense layer with N nodes (N being the number of classes) and a softmax activation function\n",
    "    num_classes = len(set(train_labels))\n",
    "    model.add(tf.keras.layers.Dense(num_classes, activation='softmax'))\n",
    "\n",
    "    model.compile(\n",
    "        loss=tf.keras.losses.SparseCategoricalCrossentropy(),\n",
    "        optimizer=optimizer,\n",
    "        metrics=['accuracy']\n",
    "    )\n",
    "\n",
    "    model.fit(\n",
    "        x=train_images_flat,\n",
    "        y=train_labels,\n",
    "        batch_size=32,\n",
    "        epochs=num_epochs,\n",
    "        verbose=0\n",
    "    )\n",
    "\n",
    "    predictions = model.predict(test_images_flat)\n",
    "    predictions = np.argmax(predictions, axis=1)\n",
    "    accuracy = accuracy_score(test_labels, predictions)\n",
    "\n",
    "    return {\n",
    "        'Number of epochs': num_epochs,\n",
    "        'Number of hidden layers': num_hidden_dense_layers,\n",
    "        'Number of nodes per hidden layer': num_dense_layer_nodes,\n",
    "        'Optimizer class': type(optimizer),\n",
    "        'Accuracy': accuracy\n",
    "    }"
   ]
  },
  {
   "cell_type": "markdown",
   "metadata": {},
   "source": [
    "First off, we'll try changing up the optimizer. It's difficult to tell which optimizer will perform the best just from the documentation, so we'll run a few experiments."
   ]
  },
  {
   "cell_type": "code",
   "execution_count": 217,
   "metadata": {},
   "outputs": [],
   "source": [
    "from tensorflow.keras import optimizers as op\n",
    "\n",
    "optimizers = [\n",
    "    op.SGD(),\n",
    "    op.Adam(),\n",
    "    op.Adadelta(),\n",
    "    op.Adagrad(),\n",
    "    op.Adamax(),\n",
    "    op.Nadam(),\n",
    "    op.Ftrl()\n",
    "]\n",
    "\n",
    "results = list()\n",
    "for _opt in optimizers:\n",
    "    results.append(compile_fit_model_and_predict(10, 2, 8, _opt))"
   ]
  },
  {
   "cell_type": "code",
   "execution_count": 218,
   "metadata": {},
   "outputs": [
    {
     "data": {
      "text/html": [
       "<div>\n",
       "<style scoped>\n",
       "    .dataframe tbody tr th:only-of-type {\n",
       "        vertical-align: middle;\n",
       "    }\n",
       "\n",
       "    .dataframe tbody tr th {\n",
       "        vertical-align: top;\n",
       "    }\n",
       "\n",
       "    .dataframe thead th {\n",
       "        text-align: right;\n",
       "    }\n",
       "</style>\n",
       "<table border=\"1\" class=\"dataframe\">\n",
       "  <thead>\n",
       "    <tr style=\"text-align: right;\">\n",
       "      <th></th>\n",
       "      <th>Number of epochs</th>\n",
       "      <th>Number of hidden layers</th>\n",
       "      <th>Number of nodes per hidden layer</th>\n",
       "      <th>Optimizer class</th>\n",
       "      <th>Accuracy</th>\n",
       "    </tr>\n",
       "  </thead>\n",
       "  <tbody>\n",
       "    <tr>\n",
       "      <th>5</th>\n",
       "      <td>10</td>\n",
       "      <td>2</td>\n",
       "      <td>8</td>\n",
       "      <td>&lt;class 'keras.optimizer_v2.nadam.Nadam'&gt;</td>\n",
       "      <td>0.7034</td>\n",
       "    </tr>\n",
       "    <tr>\n",
       "      <th>1</th>\n",
       "      <td>10</td>\n",
       "      <td>2</td>\n",
       "      <td>8</td>\n",
       "      <td>&lt;class 'keras.optimizer_v2.adam.Adam'&gt;</td>\n",
       "      <td>0.7010</td>\n",
       "    </tr>\n",
       "    <tr>\n",
       "      <th>4</th>\n",
       "      <td>10</td>\n",
       "      <td>2</td>\n",
       "      <td>8</td>\n",
       "      <td>&lt;class 'keras.optimizer_v2.adamax.Adamax'&gt;</td>\n",
       "      <td>0.6919</td>\n",
       "    </tr>\n",
       "    <tr>\n",
       "      <th>0</th>\n",
       "      <td>10</td>\n",
       "      <td>2</td>\n",
       "      <td>8</td>\n",
       "      <td>&lt;class 'keras.optimizer_v2.gradient_descent.SGD'&gt;</td>\n",
       "      <td>0.6743</td>\n",
       "    </tr>\n",
       "    <tr>\n",
       "      <th>3</th>\n",
       "      <td>10</td>\n",
       "      <td>2</td>\n",
       "      <td>8</td>\n",
       "      <td>&lt;class 'keras.optimizer_v2.adagrad.Adagrad'&gt;</td>\n",
       "      <td>0.4684</td>\n",
       "    </tr>\n",
       "    <tr>\n",
       "      <th>2</th>\n",
       "      <td>10</td>\n",
       "      <td>2</td>\n",
       "      <td>8</td>\n",
       "      <td>&lt;class 'keras.optimizer_v2.adadelta.Adadelta'&gt;</td>\n",
       "      <td>0.1326</td>\n",
       "    </tr>\n",
       "    <tr>\n",
       "      <th>6</th>\n",
       "      <td>10</td>\n",
       "      <td>2</td>\n",
       "      <td>8</td>\n",
       "      <td>&lt;class 'keras.optimizer_v2.ftrl.Ftrl'&gt;</td>\n",
       "      <td>0.1000</td>\n",
       "    </tr>\n",
       "  </tbody>\n",
       "</table>\n",
       "</div>"
      ],
      "text/plain": [
       "   Number of epochs  Number of hidden layers  \\\n",
       "5                10                        2   \n",
       "1                10                        2   \n",
       "4                10                        2   \n",
       "0                10                        2   \n",
       "3                10                        2   \n",
       "2                10                        2   \n",
       "6                10                        2   \n",
       "\n",
       "   Number of nodes per hidden layer  \\\n",
       "5                                 8   \n",
       "1                                 8   \n",
       "4                                 8   \n",
       "0                                 8   \n",
       "3                                 8   \n",
       "2                                 8   \n",
       "6                                 8   \n",
       "\n",
       "                                     Optimizer class  Accuracy  \n",
       "5           <class 'keras.optimizer_v2.nadam.Nadam'>    0.7034  \n",
       "1             <class 'keras.optimizer_v2.adam.Adam'>    0.7010  \n",
       "4         <class 'keras.optimizer_v2.adamax.Adamax'>    0.6919  \n",
       "0  <class 'keras.optimizer_v2.gradient_descent.SGD'>    0.6743  \n",
       "3       <class 'keras.optimizer_v2.adagrad.Adagrad'>    0.4684  \n",
       "2     <class 'keras.optimizer_v2.adadelta.Adadelta'>    0.1326  \n",
       "6             <class 'keras.optimizer_v2.ftrl.Ftrl'>    0.1000  "
      ]
     },
     "execution_count": 218,
     "metadata": {},
     "output_type": "execute_result"
    }
   ],
   "source": [
    "pd.DataFrame(results).sort_values(by='Accuracy', ascending=False)"
   ]
  },
  {
   "cell_type": "markdown",
   "metadata": {},
   "source": [
    "It looks like the `Adam` and `Nadam` optimizers outperform the others just slightly, at least with the current, fixed set of parameters, so let's stick with `Adam`. Now, let's generate some permutations of the other parameters to build and fit the model with, and then calculate the accuracy of their predictions."
   ]
  },
  {
   "cell_type": "code",
   "execution_count": 219,
   "metadata": {},
   "outputs": [],
   "source": [
    "from itertools import product\n",
    "\n",
    "epochs_options = [25, 50]\n",
    "hidden_layers_options = [0, 1, 2]\n",
    "hidden_layer_nodes_options = [32, 64, 128]\n",
    "optimizer_options = [op.Adam()]\n",
    "\n",
    "results = list()\n",
    "for args in product(epochs_options, hidden_layers_options, hidden_layer_nodes_options, optimizer_options):\n",
    "    results.append(compile_fit_model_and_predict(*args))"
   ]
  },
  {
   "cell_type": "markdown",
   "metadata": {},
   "source": [
    "For each model, I recorded the accuracy of the predictions. The following table shows the accuracies for each model, with the most accurate on top."
   ]
  },
  {
   "cell_type": "code",
   "execution_count": 222,
   "metadata": {},
   "outputs": [
    {
     "data": {
      "text/html": [
       "<div>\n",
       "<style scoped>\n",
       "    .dataframe tbody tr th:only-of-type {\n",
       "        vertical-align: middle;\n",
       "    }\n",
       "\n",
       "    .dataframe tbody tr th {\n",
       "        vertical-align: top;\n",
       "    }\n",
       "\n",
       "    .dataframe thead th {\n",
       "        text-align: right;\n",
       "    }\n",
       "</style>\n",
       "<table border=\"1\" class=\"dataframe\">\n",
       "  <thead>\n",
       "    <tr style=\"text-align: right;\">\n",
       "      <th></th>\n",
       "      <th>Number of epochs</th>\n",
       "      <th>Number of hidden layers</th>\n",
       "      <th>Number of nodes per hidden layer</th>\n",
       "      <th>Optimizer class</th>\n",
       "      <th>Accuracy</th>\n",
       "    </tr>\n",
       "  </thead>\n",
       "  <tbody>\n",
       "    <tr>\n",
       "      <th>8</th>\n",
       "      <td>25</td>\n",
       "      <td>2</td>\n",
       "      <td>128</td>\n",
       "      <td>&lt;class 'keras.optimizer_v2.adam.Adam'&gt;</td>\n",
       "      <td>0.9017</td>\n",
       "    </tr>\n",
       "    <tr>\n",
       "      <th>17</th>\n",
       "      <td>50</td>\n",
       "      <td>2</td>\n",
       "      <td>128</td>\n",
       "      <td>&lt;class 'keras.optimizer_v2.adam.Adam'&gt;</td>\n",
       "      <td>0.8974</td>\n",
       "    </tr>\n",
       "    <tr>\n",
       "      <th>5</th>\n",
       "      <td>25</td>\n",
       "      <td>1</td>\n",
       "      <td>128</td>\n",
       "      <td>&lt;class 'keras.optimizer_v2.adam.Adam'&gt;</td>\n",
       "      <td>0.8921</td>\n",
       "    </tr>\n",
       "    <tr>\n",
       "      <th>14</th>\n",
       "      <td>50</td>\n",
       "      <td>1</td>\n",
       "      <td>128</td>\n",
       "      <td>&lt;class 'keras.optimizer_v2.adam.Adam'&gt;</td>\n",
       "      <td>0.8847</td>\n",
       "    </tr>\n",
       "    <tr>\n",
       "      <th>7</th>\n",
       "      <td>25</td>\n",
       "      <td>2</td>\n",
       "      <td>64</td>\n",
       "      <td>&lt;class 'keras.optimizer_v2.adam.Adam'&gt;</td>\n",
       "      <td>0.8808</td>\n",
       "    </tr>\n",
       "    <tr>\n",
       "      <th>16</th>\n",
       "      <td>50</td>\n",
       "      <td>2</td>\n",
       "      <td>64</td>\n",
       "      <td>&lt;class 'keras.optimizer_v2.adam.Adam'&gt;</td>\n",
       "      <td>0.8784</td>\n",
       "    </tr>\n",
       "    <tr>\n",
       "      <th>4</th>\n",
       "      <td>25</td>\n",
       "      <td>1</td>\n",
       "      <td>64</td>\n",
       "      <td>&lt;class 'keras.optimizer_v2.adam.Adam'&gt;</td>\n",
       "      <td>0.8683</td>\n",
       "    </tr>\n",
       "    <tr>\n",
       "      <th>13</th>\n",
       "      <td>50</td>\n",
       "      <td>1</td>\n",
       "      <td>64</td>\n",
       "      <td>&lt;class 'keras.optimizer_v2.adam.Adam'&gt;</td>\n",
       "      <td>0.8629</td>\n",
       "    </tr>\n",
       "    <tr>\n",
       "      <th>6</th>\n",
       "      <td>25</td>\n",
       "      <td>2</td>\n",
       "      <td>32</td>\n",
       "      <td>&lt;class 'keras.optimizer_v2.adam.Adam'&gt;</td>\n",
       "      <td>0.8363</td>\n",
       "    </tr>\n",
       "    <tr>\n",
       "      <th>15</th>\n",
       "      <td>50</td>\n",
       "      <td>2</td>\n",
       "      <td>32</td>\n",
       "      <td>&lt;class 'keras.optimizer_v2.adam.Adam'&gt;</td>\n",
       "      <td>0.8295</td>\n",
       "    </tr>\n",
       "    <tr>\n",
       "      <th>3</th>\n",
       "      <td>25</td>\n",
       "      <td>1</td>\n",
       "      <td>32</td>\n",
       "      <td>&lt;class 'keras.optimizer_v2.adam.Adam'&gt;</td>\n",
       "      <td>0.8237</td>\n",
       "    </tr>\n",
       "    <tr>\n",
       "      <th>12</th>\n",
       "      <td>50</td>\n",
       "      <td>1</td>\n",
       "      <td>32</td>\n",
       "      <td>&lt;class 'keras.optimizer_v2.adam.Adam'&gt;</td>\n",
       "      <td>0.8040</td>\n",
       "    </tr>\n",
       "    <tr>\n",
       "      <th>10</th>\n",
       "      <td>50</td>\n",
       "      <td>0</td>\n",
       "      <td>64</td>\n",
       "      <td>&lt;class 'keras.optimizer_v2.adam.Adam'&gt;</td>\n",
       "      <td>0.6979</td>\n",
       "    </tr>\n",
       "    <tr>\n",
       "      <th>11</th>\n",
       "      <td>50</td>\n",
       "      <td>0</td>\n",
       "      <td>128</td>\n",
       "      <td>&lt;class 'keras.optimizer_v2.adam.Adam'&gt;</td>\n",
       "      <td>0.6971</td>\n",
       "    </tr>\n",
       "    <tr>\n",
       "      <th>0</th>\n",
       "      <td>25</td>\n",
       "      <td>0</td>\n",
       "      <td>32</td>\n",
       "      <td>&lt;class 'keras.optimizer_v2.adam.Adam'&gt;</td>\n",
       "      <td>0.6970</td>\n",
       "    </tr>\n",
       "    <tr>\n",
       "      <th>9</th>\n",
       "      <td>50</td>\n",
       "      <td>0</td>\n",
       "      <td>32</td>\n",
       "      <td>&lt;class 'keras.optimizer_v2.adam.Adam'&gt;</td>\n",
       "      <td>0.6953</td>\n",
       "    </tr>\n",
       "    <tr>\n",
       "      <th>1</th>\n",
       "      <td>25</td>\n",
       "      <td>0</td>\n",
       "      <td>64</td>\n",
       "      <td>&lt;class 'keras.optimizer_v2.adam.Adam'&gt;</td>\n",
       "      <td>0.6951</td>\n",
       "    </tr>\n",
       "    <tr>\n",
       "      <th>2</th>\n",
       "      <td>25</td>\n",
       "      <td>0</td>\n",
       "      <td>128</td>\n",
       "      <td>&lt;class 'keras.optimizer_v2.adam.Adam'&gt;</td>\n",
       "      <td>0.6919</td>\n",
       "    </tr>\n",
       "  </tbody>\n",
       "</table>\n",
       "</div>"
      ],
      "text/plain": [
       "    Number of epochs  Number of hidden layers  \\\n",
       "8                 25                        2   \n",
       "17                50                        2   \n",
       "5                 25                        1   \n",
       "14                50                        1   \n",
       "7                 25                        2   \n",
       "16                50                        2   \n",
       "4                 25                        1   \n",
       "13                50                        1   \n",
       "6                 25                        2   \n",
       "15                50                        2   \n",
       "3                 25                        1   \n",
       "12                50                        1   \n",
       "10                50                        0   \n",
       "11                50                        0   \n",
       "0                 25                        0   \n",
       "9                 50                        0   \n",
       "1                 25                        0   \n",
       "2                 25                        0   \n",
       "\n",
       "    Number of nodes per hidden layer                         Optimizer class  \\\n",
       "8                                128  <class 'keras.optimizer_v2.adam.Adam'>   \n",
       "17                               128  <class 'keras.optimizer_v2.adam.Adam'>   \n",
       "5                                128  <class 'keras.optimizer_v2.adam.Adam'>   \n",
       "14                               128  <class 'keras.optimizer_v2.adam.Adam'>   \n",
       "7                                 64  <class 'keras.optimizer_v2.adam.Adam'>   \n",
       "16                                64  <class 'keras.optimizer_v2.adam.Adam'>   \n",
       "4                                 64  <class 'keras.optimizer_v2.adam.Adam'>   \n",
       "13                                64  <class 'keras.optimizer_v2.adam.Adam'>   \n",
       "6                                 32  <class 'keras.optimizer_v2.adam.Adam'>   \n",
       "15                                32  <class 'keras.optimizer_v2.adam.Adam'>   \n",
       "3                                 32  <class 'keras.optimizer_v2.adam.Adam'>   \n",
       "12                                32  <class 'keras.optimizer_v2.adam.Adam'>   \n",
       "10                                64  <class 'keras.optimizer_v2.adam.Adam'>   \n",
       "11                               128  <class 'keras.optimizer_v2.adam.Adam'>   \n",
       "0                                 32  <class 'keras.optimizer_v2.adam.Adam'>   \n",
       "9                                 32  <class 'keras.optimizer_v2.adam.Adam'>   \n",
       "1                                 64  <class 'keras.optimizer_v2.adam.Adam'>   \n",
       "2                                128  <class 'keras.optimizer_v2.adam.Adam'>   \n",
       "\n",
       "    Accuracy  \n",
       "8     0.9017  \n",
       "17    0.8974  \n",
       "5     0.8921  \n",
       "14    0.8847  \n",
       "7     0.8808  \n",
       "16    0.8784  \n",
       "4     0.8683  \n",
       "13    0.8629  \n",
       "6     0.8363  \n",
       "15    0.8295  \n",
       "3     0.8237  \n",
       "12    0.8040  \n",
       "10    0.6979  \n",
       "11    0.6971  \n",
       "0     0.6970  \n",
       "9     0.6953  \n",
       "1     0.6951  \n",
       "2     0.6919  "
      ]
     },
     "execution_count": 222,
     "metadata": {},
     "output_type": "execute_result"
    }
   ],
   "source": [
    "pd.DataFrame(results).sort_values(by='Accuracy', ascending=False)"
   ]
  },
  {
   "cell_type": "markdown",
   "metadata": {},
   "source": [
    "Looks like the most accurate model is built with 2 hidden layers of 128 nodes (or _neurons_) each, and is trained on 25 epochs. Now, let's try the same experiments with a _convolutional_ neural network (CNN).\n",
    "\n",
    "## Implementing a Convolutional Neural Network\n",
    "\n",
    "Next up, we'll build a convolutional network using largely the same patterns as the multi-layer network. This time, instead of using the flattened, 1D images as inputs, we'll input the 2D arrays and then flatten after some 2D convolution and pooling layers."
   ]
  },
  {
   "cell_type": "code",
   "execution_count": 232,
   "metadata": {},
   "outputs": [
    {
     "name": "stdout",
     "output_type": "stream",
     "text": [
      "Model: \"sequential_134\"\n",
      "_________________________________________________________________\n",
      " Layer (type)                Output Shape              Param #   \n",
      "=================================================================\n",
      " conv2d_15 (Conv2D)          (None, 26, 26, 32)        320       \n",
      "                                                                 \n",
      " conv2d_16 (Conv2D)          (None, 24, 24, 64)        18496     \n",
      "                                                                 \n",
      " max_pooling2d_6 (MaxPooling  (None, 12, 12, 64)       0         \n",
      " 2D)                                                             \n",
      "                                                                 \n",
      " flatten_6 (Flatten)         (None, 9216)              0         \n",
      "                                                                 \n",
      " dense_378 (Dense)           (None, 128)               1179776   \n",
      "                                                                 \n",
      " dense_379 (Dense)           (None, 128)               16512     \n",
      "                                                                 \n",
      " dense_380 (Dense)           (None, 10)                1290      \n",
      "                                                                 \n",
      "=================================================================\n",
      "Total params: 1,216,394\n",
      "Trainable params: 1,216,394\n",
      "Non-trainable params: 0\n",
      "_________________________________________________________________\n"
     ]
    }
   ],
   "source": [
    "model = tf.keras.Sequential()\n",
    "\n",
    "model.add(tf.keras.layers.InputLayer(input_shape=(28, 28, 1)))\n",
    "\n",
    "model.add(tf.keras.layers.Conv2D(filters=32, kernel_size=3, activation='relu'))\n",
    "model.add(tf.keras.layers.Conv2D(filters=64, kernel_size=3, activation='relu'))\n",
    "model.add(tf.keras.layers.MaxPooling2D(pool_size=2))\n",
    "model.add(tf.keras.layers.Flatten())\n",
    "\n",
    "# use 2 dense layers with 128 nodes, per the most accurate perceptron model from the previous section\n",
    "model.add(tf.keras.layers.Dense(128, activation='relu'))\n",
    "model.add(tf.keras.layers.Dense(128, activation='relu'))\n",
    "\n",
    "num_classes = len(set(train_labels))\n",
    "model.add(tf.keras.layers.Dense(num_classes, activation='softmax'))\n",
    "\n",
    "model.compile(\n",
    "    loss=tf.keras.losses.SparseCategoricalCrossentropy(),\n",
    "    optimizer=op.Adam(),\n",
    "    metrics=['accuracy']\n",
    ")\n",
    "\n",
    "model.summary()"
   ]
  },
  {
   "cell_type": "code",
   "execution_count": 233,
   "metadata": {},
   "outputs": [
    {
     "name": "stdout",
     "output_type": "stream",
     "text": [
      "Epoch 1/10\n",
      "469/469 [==============================] - 72s 151ms/step - loss: 0.9309 - accuracy: 0.8899\n",
      "Epoch 2/10\n",
      "469/469 [==============================] - 71s 151ms/step - loss: 0.0818 - accuracy: 0.9759\n",
      "Epoch 3/10\n",
      "469/469 [==============================] - 70s 149ms/step - loss: 0.0442 - accuracy: 0.9862\n",
      "Epoch 4/10\n",
      "469/469 [==============================] - 71s 151ms/step - loss: 0.0321 - accuracy: 0.9897\n",
      "Epoch 5/10\n",
      "469/469 [==============================] - 71s 152ms/step - loss: 0.0222 - accuracy: 0.9929\n",
      "Epoch 6/10\n",
      "469/469 [==============================] - 71s 151ms/step - loss: 0.0237 - accuracy: 0.9922\n",
      "Epoch 7/10\n",
      "469/469 [==============================] - 71s 150ms/step - loss: 0.0235 - accuracy: 0.9927\n",
      "Epoch 8/10\n",
      "469/469 [==============================] - 70s 150ms/step - loss: 0.0151 - accuracy: 0.9952\n",
      "Epoch 9/10\n",
      "469/469 [==============================] - 71s 150ms/step - loss: 0.0172 - accuracy: 0.9944\n",
      "Epoch 10/10\n",
      "469/469 [==============================] - 70s 149ms/step - loss: 0.0135 - accuracy: 0.9957\n"
     ]
    },
    {
     "data": {
      "text/plain": [
       "<keras.callbacks.History at 0x218babf65b0>"
      ]
     },
     "execution_count": 233,
     "metadata": {},
     "output_type": "execute_result"
    }
   ],
   "source": [
    "model.fit(x=train_images, y=train_labels, batch_size=128, epochs=10)"
   ]
  },
  {
   "cell_type": "code",
   "execution_count": 238,
   "metadata": {},
   "outputs": [
    {
     "name": "stdout",
     "output_type": "stream",
     "text": [
      "Accuracy: 0.9289\n"
     ]
    }
   ],
   "source": [
    "predictions = model.predict(test_images)\n",
    "predictions = np.argmax(predictions, axis=1)\n",
    "accuracy = accuracy_score(test_labels, predictions)\n",
    "print(f\"Accuracy: {accuracy}\")"
   ]
  },
  {
   "cell_type": "markdown",
   "metadata": {},
   "source": [
    "Not bad. We're already about 2% better than the perceptron with only the first pass! Since this took a long time to run (11 mins, compared to the perceptrons, which took ~15 sec), I'd like to increase the batch size to see how it impacts time to fit and the accuracy of the predictions."
   ]
  },
  {
   "cell_type": "code",
   "execution_count": 239,
   "metadata": {},
   "outputs": [
    {
     "name": "stdout",
     "output_type": "stream",
     "text": [
      "Epoch 1/10\n",
      "235/235 [==============================] - 66s 278ms/step - loss: 1.1770 - accuracy: 0.8524\n",
      "Epoch 2/10\n",
      "235/235 [==============================] - 65s 275ms/step - loss: 0.0848 - accuracy: 0.9760\n",
      "Epoch 3/10\n",
      "235/235 [==============================] - 64s 274ms/step - loss: 0.0423 - accuracy: 0.9877\n",
      "Epoch 4/10\n",
      "235/235 [==============================] - 65s 275ms/step - loss: 0.0215 - accuracy: 0.9937\n",
      "Epoch 5/10\n",
      "235/235 [==============================] - 65s 277ms/step - loss: 0.0166 - accuracy: 0.9947\n",
      "Epoch 6/10\n",
      "235/235 [==============================] - 65s 276ms/step - loss: 0.0131 - accuracy: 0.9956\n",
      "Epoch 7/10\n",
      "235/235 [==============================] - 66s 281ms/step - loss: 0.0127 - accuracy: 0.9958\n",
      "Epoch 8/10\n",
      "235/235 [==============================] - 66s 281ms/step - loss: 0.0149 - accuracy: 0.9952\n",
      "Epoch 9/10\n",
      "235/235 [==============================] - 65s 277ms/step - loss: 0.0126 - accuracy: 0.9960\n",
      "Epoch 10/10\n",
      "235/235 [==============================] - 65s 275ms/step - loss: 0.0099 - accuracy: 0.9969\n"
     ]
    },
    {
     "data": {
      "text/plain": [
       "<keras.callbacks.History at 0x2186f98be50>"
      ]
     },
     "execution_count": 239,
     "metadata": {},
     "output_type": "execute_result"
    }
   ],
   "source": [
    "model = tf.keras.Sequential()\n",
    "\n",
    "model.add(tf.keras.layers.InputLayer(input_shape=(28, 28, 1)))\n",
    "\n",
    "model.add(tf.keras.layers.Conv2D(filters=32, kernel_size=3, activation='relu'))\n",
    "model.add(tf.keras.layers.Conv2D(filters=64, kernel_size=3, activation='relu'))\n",
    "model.add(tf.keras.layers.MaxPooling2D(pool_size=2))\n",
    "model.add(tf.keras.layers.Flatten())\n",
    "\n",
    "# use 2 dense layers with 128 nodes, per the most accurate perceptron model from the previous section\n",
    "model.add(tf.keras.layers.Dense(128, activation='relu'))\n",
    "model.add(tf.keras.layers.Dense(128, activation='relu'))\n",
    "\n",
    "num_classes = len(set(train_labels))\n",
    "model.add(tf.keras.layers.Dense(num_classes, activation='softmax'))\n",
    "\n",
    "model.compile(\n",
    "    loss=tf.keras.losses.SparseCategoricalCrossentropy(),\n",
    "    optimizer=op.Adam(),\n",
    "    metrics=['accuracy']\n",
    ")\n",
    "\n",
    "model.fit(x=train_images, y=train_labels, batch_size=256, epochs=10)"
   ]
  },
  {
   "cell_type": "code",
   "execution_count": 240,
   "metadata": {},
   "outputs": [
    {
     "name": "stdout",
     "output_type": "stream",
     "text": [
      "Accuracy: 0.9335\n"
     ]
    }
   ],
   "source": [
    "predictions = model.predict(test_images)\n",
    "predictions = np.argmax(predictions, axis=1)\n",
    "accuracy = accuracy_score(test_labels, predictions)\n",
    "print(f\"Accuracy: {accuracy}\")"
   ]
  },
  {
   "cell_type": "markdown",
   "metadata": {},
   "source": [
    "Well, neither the timing nor the accuracy improved, but they also didn't worsen. We'll stick with this one, though. Let's functionize all this such that we can easily pass in different parameters in an attempt to optimize."
   ]
  },
  {
   "cell_type": "code",
   "execution_count": 253,
   "metadata": {},
   "outputs": [],
   "source": [
    "from os import cpu_count\n",
    "\n",
    "def compile_fit_cnn_model_and_predict(num_epochs, num_filters, kernel_size, pooling, optimizer):\n",
    "    model = tf.keras.Sequential()\n",
    "\n",
    "    model.add(tf.keras.layers.InputLayer(input_shape=(28, 28, 1)))\n",
    "\n",
    "    model.add(tf.keras.layers.Conv2D(filters=num_filters, kernel_size=kernel_size, activation='relu'))\n",
    "    model.add(tf.keras.layers.Conv2D(filters=num_filters*2, kernel_size=kernel_size, activation='relu'))\n",
    "\n",
    "    if pooling == 'max':\n",
    "        model.add(tf.keras.layers.MaxPooling2D(pool_size=2))\n",
    "        model.add(tf.keras.layers.Flatten())\n",
    "    if pooling == 'global':\n",
    "        model.add(tf.keras.layers.GlobalMaxPooling2D())\n",
    "    else:\n",
    "        model.add(tf.keras.layers.Flatten())\n",
    "\n",
    "    # use 2 dense layers with 128 nodes, per the most accurate perceptron model from the previous section\n",
    "    model.add(tf.keras.layers.Dense(128, activation='relu'))\n",
    "    model.add(tf.keras.layers.Dense(128, activation='relu'))\n",
    "\n",
    "    num_classes = len(set(train_labels))\n",
    "    model.add(tf.keras.layers.Dense(num_classes, activation='softmax'))\n",
    "\n",
    "    model.compile(\n",
    "        loss=tf.keras.losses.SparseCategoricalCrossentropy(),\n",
    "        optimizer=op.Adam(),\n",
    "        metrics=['accuracy']\n",
    "    )\n",
    "\n",
    "    model.fit(\n",
    "        x=train_images,\n",
    "        y=train_labels,\n",
    "        batch_size=256,\n",
    "        epochs=num_epochs,\n",
    "        verbose=0\n",
    "    )\n",
    "\n",
    "    predictions = model.predict(test_images)\n",
    "    predictions = np.argmax(predictions, axis=1)\n",
    "    accuracy = accuracy_score(test_labels, predictions)\n",
    "\n",
    "    return {\n",
    "        'Number of epochs': num_epochs,\n",
    "        'Number of filters': num_filters,\n",
    "        'Kernel size': kernel_size,\n",
    "        'Pooling type': pooling or 'none',\n",
    "        'Optimizer class': type(optimizer),\n",
    "        'Accuracy': accuracy\n",
    "    }"
   ]
  },
  {
   "cell_type": "markdown",
   "metadata": {},
   "source": [
    "In the interest of time, we'll stick with the `Adam` optimizer to cut down on the number of permutations of the parameters. It's important to keep in mind, however, that varying the optimizer class is yet another dial one could turn to get better timing and/or accuracy of the model. Similarly, we're only going to test a set of 3 options for each of the other parameters so it doesn't take too long."
   ]
  },
  {
   "cell_type": "code",
   "execution_count": null,
   "metadata": {},
   "outputs": [],
   "source": [
    "epochs_options = [5, 10, 15]\n",
    "num_filters_options = [16, 32, 64]\n",
    "kernel_size_options = [3, 5, 7]\n",
    "pooling_options = ['max', 'global', 'none']\n",
    "optimizer_options = [op.Adam()]\n",
    "\n",
    "results = list()\n",
    "for args in product(epochs_options, num_filters_options, kernel_size_options, pooling_options, optimizer_options):\n",
    "    results.append(compile_fit_cnn_model_and_predict(*args))"
   ]
  },
  {
   "cell_type": "markdown",
   "metadata": {},
   "source": [
    "Unfortunately, I had to kill this cell after running for 1,285 minutes, _but_ it had finished predictions on models using 76 of the possible 81 permutations of hyperparameters by that point. Let's take a look at those results."
   ]
  },
  {
   "cell_type": "code",
   "execution_count": 258,
   "metadata": {},
   "outputs": [
    {
     "data": {
      "text/html": [
       "<div>\n",
       "<style scoped>\n",
       "    .dataframe tbody tr th:only-of-type {\n",
       "        vertical-align: middle;\n",
       "    }\n",
       "\n",
       "    .dataframe tbody tr th {\n",
       "        vertical-align: top;\n",
       "    }\n",
       "\n",
       "    .dataframe thead th {\n",
       "        text-align: right;\n",
       "    }\n",
       "</style>\n",
       "<table border=\"1\" class=\"dataframe\">\n",
       "  <thead>\n",
       "    <tr style=\"text-align: right;\">\n",
       "      <th></th>\n",
       "      <th>Number of epochs</th>\n",
       "      <th>Number of filters</th>\n",
       "      <th>Kernel size</th>\n",
       "      <th>Pooling type</th>\n",
       "      <th>Optimizer class</th>\n",
       "      <th>Accuracy</th>\n",
       "    </tr>\n",
       "  </thead>\n",
       "  <tbody>\n",
       "    <tr>\n",
       "      <th>36</th>\n",
       "      <td>10</td>\n",
       "      <td>32</td>\n",
       "      <td>3</td>\n",
       "      <td>max</td>\n",
       "      <td>&lt;class 'keras.optimizer_v2.adam.Adam'&gt;</td>\n",
       "      <td>0.9374</td>\n",
       "    </tr>\n",
       "    <tr>\n",
       "      <th>48</th>\n",
       "      <td>10</td>\n",
       "      <td>64</td>\n",
       "      <td>5</td>\n",
       "      <td>max</td>\n",
       "      <td>&lt;class 'keras.optimizer_v2.adam.Adam'&gt;</td>\n",
       "      <td>0.9345</td>\n",
       "    </tr>\n",
       "    <tr>\n",
       "      <th>66</th>\n",
       "      <td>15</td>\n",
       "      <td>32</td>\n",
       "      <td>5</td>\n",
       "      <td>max</td>\n",
       "      <td>&lt;class 'keras.optimizer_v2.adam.Adam'&gt;</td>\n",
       "      <td>0.9340</td>\n",
       "    </tr>\n",
       "    <tr>\n",
       "      <th>39</th>\n",
       "      <td>10</td>\n",
       "      <td>32</td>\n",
       "      <td>5</td>\n",
       "      <td>max</td>\n",
       "      <td>&lt;class 'keras.optimizer_v2.adam.Adam'&gt;</td>\n",
       "      <td>0.9336</td>\n",
       "    </tr>\n",
       "    <tr>\n",
       "      <th>24</th>\n",
       "      <td>5</td>\n",
       "      <td>64</td>\n",
       "      <td>7</td>\n",
       "      <td>max</td>\n",
       "      <td>&lt;class 'keras.optimizer_v2.adam.Adam'&gt;</td>\n",
       "      <td>0.9335</td>\n",
       "    </tr>\n",
       "    <tr>\n",
       "      <th>...</th>\n",
       "      <td>...</td>\n",
       "      <td>...</td>\n",
       "      <td>...</td>\n",
       "      <td>...</td>\n",
       "      <td>...</td>\n",
       "      <td>...</td>\n",
       "    </tr>\n",
       "    <tr>\n",
       "      <th>19</th>\n",
       "      <td>5</td>\n",
       "      <td>64</td>\n",
       "      <td>3</td>\n",
       "      <td>global</td>\n",
       "      <td>&lt;class 'keras.optimizer_v2.adam.Adam'&gt;</td>\n",
       "      <td>0.7424</td>\n",
       "    </tr>\n",
       "    <tr>\n",
       "      <th>55</th>\n",
       "      <td>15</td>\n",
       "      <td>16</td>\n",
       "      <td>3</td>\n",
       "      <td>global</td>\n",
       "      <td>&lt;class 'keras.optimizer_v2.adam.Adam'&gt;</td>\n",
       "      <td>0.7326</td>\n",
       "    </tr>\n",
       "    <tr>\n",
       "      <th>10</th>\n",
       "      <td>5</td>\n",
       "      <td>32</td>\n",
       "      <td>3</td>\n",
       "      <td>global</td>\n",
       "      <td>&lt;class 'keras.optimizer_v2.adam.Adam'&gt;</td>\n",
       "      <td>0.7038</td>\n",
       "    </tr>\n",
       "    <tr>\n",
       "      <th>28</th>\n",
       "      <td>10</td>\n",
       "      <td>16</td>\n",
       "      <td>3</td>\n",
       "      <td>global</td>\n",
       "      <td>&lt;class 'keras.optimizer_v2.adam.Adam'&gt;</td>\n",
       "      <td>0.6894</td>\n",
       "    </tr>\n",
       "    <tr>\n",
       "      <th>1</th>\n",
       "      <td>5</td>\n",
       "      <td>16</td>\n",
       "      <td>3</td>\n",
       "      <td>global</td>\n",
       "      <td>&lt;class 'keras.optimizer_v2.adam.Adam'&gt;</td>\n",
       "      <td>0.6113</td>\n",
       "    </tr>\n",
       "  </tbody>\n",
       "</table>\n",
       "<p>76 rows × 6 columns</p>\n",
       "</div>"
      ],
      "text/plain": [
       "    Number of epochs  Number of filters  Kernel size Pooling type  \\\n",
       "36                10                 32            3          max   \n",
       "48                10                 64            5          max   \n",
       "66                15                 32            5          max   \n",
       "39                10                 32            5          max   \n",
       "24                 5                 64            7          max   \n",
       "..               ...                ...          ...          ...   \n",
       "19                 5                 64            3       global   \n",
       "55                15                 16            3       global   \n",
       "10                 5                 32            3       global   \n",
       "28                10                 16            3       global   \n",
       "1                  5                 16            3       global   \n",
       "\n",
       "                           Optimizer class  Accuracy  \n",
       "36  <class 'keras.optimizer_v2.adam.Adam'>    0.9374  \n",
       "48  <class 'keras.optimizer_v2.adam.Adam'>    0.9345  \n",
       "66  <class 'keras.optimizer_v2.adam.Adam'>    0.9340  \n",
       "39  <class 'keras.optimizer_v2.adam.Adam'>    0.9336  \n",
       "24  <class 'keras.optimizer_v2.adam.Adam'>    0.9335  \n",
       "..                                     ...       ...  \n",
       "19  <class 'keras.optimizer_v2.adam.Adam'>    0.7424  \n",
       "55  <class 'keras.optimizer_v2.adam.Adam'>    0.7326  \n",
       "10  <class 'keras.optimizer_v2.adam.Adam'>    0.7038  \n",
       "28  <class 'keras.optimizer_v2.adam.Adam'>    0.6894  \n",
       "1   <class 'keras.optimizer_v2.adam.Adam'>    0.6113  \n",
       "\n",
       "[76 rows x 6 columns]"
      ]
     },
     "execution_count": 258,
     "metadata": {},
     "output_type": "execute_result"
    }
   ],
   "source": [
    "pd.DataFrame(results).sort_values(by='Accuracy', ascending=False)"
   ]
  }
 ],
 "metadata": {
  "interpreter": {
   "hash": "0bf0a7eb58a0ecbe06ab574973ab3f2d2fa16eb819a3eb9f056d8b04161afe49"
  },
  "kernelspec": {
   "display_name": "Python 3.8.5 ('.env': venv)",
   "language": "python",
   "name": "python3"
  },
  "language_info": {
   "codemirror_mode": {
    "name": "ipython",
    "version": 3
   },
   "file_extension": ".py",
   "mimetype": "text/x-python",
   "name": "python",
   "nbconvert_exporter": "python",
   "pygments_lexer": "ipython3",
   "version": "3.8.5"
  },
  "orig_nbformat": 4
 },
 "nbformat": 4,
 "nbformat_minor": 2
}
